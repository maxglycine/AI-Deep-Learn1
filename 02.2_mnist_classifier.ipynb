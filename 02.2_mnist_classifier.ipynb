{
 "cells": [
  {
   "cell_type": "markdown",
   "metadata": {
    "id": "f0G-cp1DlkmR"
   },
   "source": [
    "![Practicum AI Logo image](https://github.com/PracticumAI/deep_learning_pt-lightning/blob/main/images/practicum_ai_logo.png?raw=1) <img src='https://github.com/PracticumAI/deep_learning_pt-lightning/blob/main/images/practicumai_deep_learning.png?raw=1' alt='Practicum AI: Deep Learning Foundations icon' align='right' width=50>\n",
    "\n",
    "***\n",
    "# *Practicum AI:* Deep Learning - MNIST Classifier\n",
    "\n",
    "This exercise adapted from Baig et al. (2020) <i>The Deep Learning Workshop</i> from <a href=\"https://www.packtpub.com/product/the-deep-learning-workshop/9781839219856\">Packt Publishers</a> (Exercise 2.07, page 92).\n",
    "\n",
    "## Amelia's AI Adventure Continues...\n",
    "\n",
    "<img alt=\"A cartoon of Dr. Amelia's dog looking at a computer with a stack of papers next to it showing some handwritten digits.\" src=\"https://github.com/PracticumAI/deep_learning_pt-lightning/blob/main/images/Amelias_Dog_MNIST.jpg?raw=1\" padding=20 align=\"right\" width=250>Amelia and her nutrition studies are back! After her adventures with image recognition and binary classification, she's curious to dive deeper.\n",
    "\n",
    "While Amelia's data collection process is working for most participants in her study, some do not like using the phone application to submit their survey responses. They keep sending in handwritten responses. Realizing that the data from these study participants is still vital to her research, Dr. Amelia is now looking to automate entering these responses using a program to read the numbers that make up the survey responses.\n",
    "\n",
    "Again, Amelia decides to start with the basics: recognizing handwritten numbers. That's where the MNIST dataset comes in. With its vast collection of handwritten digits, it's the perfect training ground for Amelia's next AI venture.\n",
    "\n",
    "**Note:** The cartoon of Dr Amelia's dog was generated with AI's assistance.\n",
    "\n",
    "Training a model on the MNIST dataset is often considered the \"Hello world!\" of AI. It is a commonly used first introduction to image recognition with deep learning.\n",
    "\n",
    "\n",
    "![AI Application Development Pathway model](https://github.com/PracticumAI/deep_learning_2_draft/blob/main/M3-AppDev.00_00_22_23.Still001.png?raw=true)\n",
    "\n",
    " >&#128221; While you're going through this notebook, see if you can figure out which steps here are associated with each of the steps of the Development Pathway.\n",
    "\n",
    "## MNIST Handwritten Digit Classification Dataset\n",
    "\n",
    "The [MNIST](http://yann.lecun.com/exdb/mnist/) (Modified National Institute of Standards and Technology) training dataset contains 60,000 28×28 pixel grayscale images of handwritten single digits between 0 and 9, with an additional 10,000 images available for validation.\n",
    "\n",
    "The MNIST dataset is frequently used in machine learning research and has become a standard benchmark for image classification models. Top-performing models often achieve a classification accuracy above 99%, with an error rate between 0.4% and 0.2% on the hold-out validation dataset.\n",
    "\n",
    "In this exercise, you will implement a deep neural network (multi-layer) capable of classifying these images of handwritten digits into one of 10 classes.\n",
    "\n",
    "Amelia knows that to start any AI project, she'll need the right tools. She begins by importing the necessary libraries to set the stage for her digit-reading neural network.\n",
    "\n",
    "## 1. Import libraries\n",
    "\n",
    "Import the necessary libraries."
   ]
  },
  {
   "cell_type": "code",
   "execution_count": 1,
   "metadata": {
    "id": "2VuBLwQLlkmS"
   },
   "outputs": [],
   "source": [
    "import torch\n",
    "import torch.nn as nn\n",
    "import torch.optim as optim\n",
    "import torch.nn.functional as F\n",
    "from torch.utils.data import DataLoader, TensorDataset\n",
    "import torchvision\n",
    "import torchvision.transforms as transforms\n",
    "import pytorch_lightning as pl\n",
    "from pytorch_lightning import Trainer\n",
    "\n",
    "import pandas as pd\n",
    "import numpy as np\n",
    "import os\n",
    "import matplotlib.pyplot as plt  # Import the matplotlib library for plotting and visualization."
   ]
  },
  {
   "cell_type": "markdown",
   "metadata": {},
   "source": [
    "\r\n",
    "While the GPU does most of the calculations in training AI models, the CPU of the computer server is responsible for loading images from disk, doing any transformations and sending the data to the GPU. PyTorch takes care of all of this and takes care of doing this in parallel. For maximum GPU performance, multiple cores are needed to constantly feed data to the GPU. The number of workers (num_workers) argument controls how many parallel tasks should be running to load data.\r\n",
    "\r\n",
    "The code block below will detect if your notebook is running in a Slurm job by checking for Slurm environment variables that specify how many CPUs are available and using that information to set the number of workers, if possible. Otherwise, the code checks for the number of cores on your computer and uses that value. To manually set the number of workers, change the first line by adding the value you want to use."
   ]
  },
  {
   "cell_type": "code",
   "execution_count": 2,
   "metadata": {},
   "outputs": [
    {
     "name": "stdout",
     "output_type": "stream",
     "text": [
      "Using 3 workers for data loading.\n"
     ]
    }
   ],
   "source": [
    "# Set the number of workers to use for data loading\n",
    "num_workers = None  # To manually set the number of workers, change this to an integer\n",
    "\n",
    "if num_workers is None:\n",
    "    # If Slurm is being used, set the number of workers to a Slurm-provided value.\n",
    "    # If Slurm is not being used, set the number of workers to the number of available CPU cores.\n",
    "    if os.getenv(\"SLURM_CPUS_PER_TASK\") is not None:\n",
    "        num_workers = int(os.getenv(\"SLURM_CPUS_PER_TASK\"))\n",
    "    elif os.getenv(\"SLURM_NTASKS_PER_NODE\") is not None:\n",
    "        num_workers = int(os.getenv(\"SLURM_NTASKS_PER_NODE\"))\n",
    "    elif os.getenv(\"SLURM_NTASKS\") is not None:\n",
    "        num_workers = int(os.getenv(\"SLURM_NTASKS\"))\n",
    "    else:\n",
    "        num_workers = os.cpu_count()\n",
    "\n",
    "print(f\"Using {num_workers} workers for data loading.\")"
   ]
  },
  {
   "cell_type": "markdown",
   "metadata": {
    "id": "BTVTtpTilkmS"
   },
   "source": [
    "## 2. Load the MNIST dataset\n",
    "\n",
    "Amelia will need to import the MNIST dataset from PyTorch's [torchvision.datasets module](https://pytorch.org/vision/stable/datasets.html#mnist). The `train_features` and `val_features` variables contain the training and validation images, while `train_labels` and `val_labels` contain the corresponding labels for each item in those datasets.  \n",
    "\n",
    "Notice that when training with MNIST data, the normalization is different than with the Imagenet data."
   ]
  },
  {
   "cell_type": "code",
   "execution_count": 3,
   "metadata": {
    "id": "1K6B_mRUlkmS"
   },
   "outputs": [
    {
     "name": "stdout",
     "output_type": "stream",
     "text": [
      "Downloading http://yann.lecun.com/exdb/mnist/train-images-idx3-ubyte.gz\n",
      "Failed to download (trying next):\n",
      "HTTP Error 404: Not Found\n",
      "\n",
      "Downloading https://ossci-datasets.s3.amazonaws.com/mnist/train-images-idx3-ubyte.gz\n",
      "Downloading https://ossci-datasets.s3.amazonaws.com/mnist/train-images-idx3-ubyte.gz to ./data/MNIST/raw/train-images-idx3-ubyte.gz\n"
     ]
    },
    {
     "name": "stderr",
     "output_type": "stream",
     "text": [
      "100%|██████████| 9.91M/9.91M [00:00<00:00, 30.8MB/s]\n"
     ]
    },
    {
     "name": "stdout",
     "output_type": "stream",
     "text": [
      "Extracting ./data/MNIST/raw/train-images-idx3-ubyte.gz to ./data/MNIST/raw\n",
      "\n",
      "Downloading http://yann.lecun.com/exdb/mnist/train-labels-idx1-ubyte.gz\n",
      "Failed to download (trying next):\n",
      "HTTP Error 404: Not Found\n",
      "\n",
      "Downloading https://ossci-datasets.s3.amazonaws.com/mnist/train-labels-idx1-ubyte.gz\n",
      "Downloading https://ossci-datasets.s3.amazonaws.com/mnist/train-labels-idx1-ubyte.gz to ./data/MNIST/raw/train-labels-idx1-ubyte.gz\n"
     ]
    },
    {
     "name": "stderr",
     "output_type": "stream",
     "text": [
      "100%|██████████| 28.9k/28.9k [00:00<00:00, 1.02MB/s]\n"
     ]
    },
    {
     "name": "stdout",
     "output_type": "stream",
     "text": [
      "Extracting ./data/MNIST/raw/train-labels-idx1-ubyte.gz to ./data/MNIST/raw\n",
      "\n",
      "Downloading http://yann.lecun.com/exdb/mnist/t10k-images-idx3-ubyte.gz\n",
      "Failed to download (trying next):\n",
      "HTTP Error 404: Not Found\n",
      "\n",
      "Downloading https://ossci-datasets.s3.amazonaws.com/mnist/t10k-images-idx3-ubyte.gz\n",
      "Downloading https://ossci-datasets.s3.amazonaws.com/mnist/t10k-images-idx3-ubyte.gz to ./data/MNIST/raw/t10k-images-idx3-ubyte.gz\n"
     ]
    },
    {
     "name": "stderr",
     "output_type": "stream",
     "text": [
      "100%|██████████| 1.65M/1.65M [00:00<00:00, 8.87MB/s]\n"
     ]
    },
    {
     "name": "stdout",
     "output_type": "stream",
     "text": [
      "Extracting ./data/MNIST/raw/t10k-images-idx3-ubyte.gz to ./data/MNIST/raw\n",
      "\n",
      "Downloading http://yann.lecun.com/exdb/mnist/t10k-labels-idx1-ubyte.gz\n",
      "Failed to download (trying next):\n",
      "HTTP Error 404: Not Found\n",
      "\n",
      "Downloading https://ossci-datasets.s3.amazonaws.com/mnist/t10k-labels-idx1-ubyte.gz\n",
      "Downloading https://ossci-datasets.s3.amazonaws.com/mnist/t10k-labels-idx1-ubyte.gz to ./data/MNIST/raw/t10k-labels-idx1-ubyte.gz\n"
     ]
    },
    {
     "name": "stderr",
     "output_type": "stream",
     "text": [
      "100%|██████████| 4.54k/4.54k [00:00<00:00, 9.13MB/s]"
     ]
    },
    {
     "name": "stdout",
     "output_type": "stream",
     "text": [
      "Extracting ./data/MNIST/raw/t10k-labels-idx1-ubyte.gz to ./data/MNIST/raw\n",
      "\n"
     ]
    },
    {
     "name": "stderr",
     "output_type": "stream",
     "text": [
      "\n"
     ]
    }
   ],
   "source": [
    "# Define transforms to convert PIL images to tensors and normalize\n",
    "transform = transforms.Compose(\n",
    "    [\n",
    "        transforms.ToTensor(),\n",
    "        transforms.Normalize((0.1307,), (0.3081,)),  # MNIST mean and std\n",
    "    ]\n",
    ")\n",
    "\n",
    "# Load the MNIST dataset from torchvision\n",
    "train_dataset = torchvision.datasets.MNIST(\n",
    "    root=\"./data\", train=True, download=True, transform=transform\n",
    ")\n",
    "val_dataset = torchvision.datasets.MNIST(\n",
    "    root=\"./data\", train=False, download=True, transform=transform\n",
    ")\n",
    "\n",
    "# Extract features and labels for compatibility with visualization parts below\n",
    "train_features = train_dataset.data.numpy()\n",
    "train_labels = train_dataset.targets.numpy()\n",
    "val_features = val_dataset.data.numpy()\n",
    "val_labels = val_dataset.targets.numpy()"
   ]
  },
  {
   "cell_type": "markdown",
   "metadata": {
    "id": "7SeT9xkGlkmS"
   },
   "source": [
    "## 3. Visualize the data\n",
    "\n",
    "Before we start to work with data, it is always good to get a better idea of what we are working with.\n",
    "\n",
    "How many images do we have in our training and validation datasets?\n",
    "\n",
    "**Note**: We are using the un-transformed `train_features` here. Later, when we train the model, we will use `train_dataset` and a dataloader that will transform the images."
   ]
  },
  {
   "cell_type": "code",
   "execution_count": 6,
   "metadata": {
    "id": "SJo0QiYslkmS"
   },
   "outputs": [
    {
     "name": "stdout",
     "output_type": "stream",
     "text": [
      "Training images: 60000\n",
      "Validation images: 10000\n",
      "Image shape: (28, 28)\n"
     ]
    }
   ],
   "source": [
    "print(f\"Training images: {len(train_features)}\")\n",
    "print(f\"Validation images: {len(val_features)}\")\n",
    "print(f\"Image shape: {train_features[0].shape}\")"
   ]
  },
  {
   "cell_type": "markdown",
   "metadata": {
    "id": "JL4Pz1N6lkmT"
   },
   "source": [
    "Let's have a look at a random image. You can run this cell multiple times and get a different image each time."
   ]
  },
  {
   "cell_type": "code",
   "execution_count": 9,
   "metadata": {
    "id": "21yyiVlClkmT",
    "tags": []
   },
   "outputs": [
    {
     "name": "stdout",
     "output_type": "stream",
     "text": [
      "[[  0   0   0   0   0   0   0   0   0   0   0   0   0   0   0   0   0   0   0   0   0   0   0   0   0   0   0   0]\n",
      " [  0   0   0   0   0   0   0   0   0   0   0   0   0   0   0   0   0   0   0   0   0   0   0   0   0   0   0   0]\n",
      " [  0   0   0   0   0   0   0   0   0   0   0   0   0   0   0   0   0   0   0   0   0   0   0   0   0   0   0   0]\n",
      " [  0   0   0   0   0   0   0   0   0   0   0   0   0   0   0   0   0   0   0   0   0   0   0   0   0   0   0   0]\n",
      " [  0   0   0   0   0   0   0   0   0   0   0   0   0   0   0   0   0   0   0   0   0   0   0   0   0   0   0   0]\n",
      " [  0   0   0   0   0   0   0   0   0   0   0   0   0   0   0   0   0   0   0   0   0   0   0   0   0   0   0   0]\n",
      " [  0   0   0   0   0   0   0   0   0   0   0   0   0   0   0   0   0   0   0   0   0   0   0   0   0   0   0   0]\n",
      " [  0   0   0   0   0   0   0   0   0   8 156 254 115   0   0   0   0   0   0   1 148 255 128   0   0   0   0   0]\n",
      " [  0   0   0   0   0   0   0   0   0 104 254 254 138   0   0   0   0   0   0 120 254 254 208   5   0   0   0   0]\n",
      " [  0   0   0   0   0   0   0   0   5 210 254 232  17   0   0   0   0   0  43 245 251 142 239  12   0   0   0   0]\n",
      " [  0   0   0   0   0   0   0   0  74 254 254 113   0   0   0   0   0   0 143 254 130   5 172   1   0   0   0   0]\n",
      " [  0   0   0   0   0   0   0   0  97 254 231  17   0   0   0   0   0  45 245 249  72  67 194   4   0   0   0   0]\n",
      " [  0   0   0   0   0   0   0   0 131 254 149   0   0   0   0   0   0 169 254 125   0 130 100   0   0   0   0   0]\n",
      " [  0   0   0   0   0   0   0   4 212 254  86   0   0   0   0   0  73 245 192  16   0 207  61   0   0   0   0   0]\n",
      " [  0   0   0   0   0   0   0   9 254 246  36   0   0   0   0   0 168 254  78   0 100  90   0   0   0   0   0   0]\n",
      " [  0   0   0   0   0   0   0   2 194 237   0   0   0   0   0  74 246 173  15 104 207  55   0   0   0   0   0   0]\n",
      " [  0   0   0   0   0   0   0   0 111 251 113  11   0   0  33 216 254 186 207 230  63   0   0   0   0   0   0   0]\n",
      " [  0   0   0   0   0   0   0   0  20 203 254 223 203 140 232 254 254 229 162  28   0   0   0   0   0   0   0   0]\n",
      " [  0   0   0   0   0   0   0   0   0  21 154 225 254 254 254 245 161  30   0   0   0   0   0   0   0   0   0   0]\n",
      " [  0   0   0   0   0   0   0   0   0   0   0  14  33 180 254 122   0   0   0   0   0   0   0   0   0   0   0   0]\n",
      " [  0   0   0   0   0   0   0   0   0   0   0   0  73 248 173   6   0   0   0   0   0   0   0   0   0   0   0   0]\n",
      " [  0   0   0   0   0   0   0   0   0   0   0   0 160 245  46   0   0   0   0   0   0   0   0   0   0   0   0   0]\n",
      " [  0   0   0   0   0   0   0   0   0   0   0  65 230 122   0   0   0   0   0   0   0   0   0   0   0   0   0   0]\n",
      " [  0   0   0   0   0   0   0   0   0   0   0 159 152   4   0   0   0   0   0   0   0   0   0   0   0   0   0   0]\n",
      " [  0   0   0   0   0   0   0   0   0   0  66 223  69   0   0   0   0   0   0   0   0   0   0   0   0   0   0   0]\n",
      " [  0   0   0   0   0   0   0   0   0   0  98 103   0   0   0   0   0   0   0   0   0   0   0   0   0   0   0   0]\n",
      " [  0   0   0   0   0   0   0   0   0  39 154   0   0   0   0   0   0   0   0   0   0   0  51 112   3   0   0   0]\n",
      " [  0   0   0   0   0   0   0   0   0   0   0   0   0   0   0   0   0   0   0   0   0   0   0   0   0   0   0   0]]\n"
     ]
    },
    {
     "data": {
      "image/png": "[encoded data removed]",
      "text/plain": [
       "<Figure size 640x480 with 1 Axes>"
      ]
     },
     "metadata": {},
     "output_type": "display_data"
    },
    {
     "name": "stdout",
     "output_type": "stream",
     "text": [
      "The true label for this image is a 4.\n"
     ]
    }
   ],
   "source": [
    "# Set line width for numpy array printing\n",
    "np.set_printoptions(linewidth=150)\n",
    "\n",
    "# Select a random number from train_features\n",
    "select = np.random.randint(0, len(train_features))\n",
    "\n",
    "# Print the image array - longer line length above should allow it to have all 28 rows in 1 line\n",
    "print(train_features[select])\n",
    "\n",
    "# Display the image as an actual image\n",
    "plt.imshow(train_features[select], cmap=\"gray\")\n",
    "plt.show()\n",
    "\n",
    "# Print the true label for the image from train_labels\n",
    "print(f\"The true label for this image is a {train_labels[select]}.\")"
   ]
  },
  {
   "cell_type": "markdown",
   "metadata": {
    "id": "-7s3l-7ElkmT"
   },
   "source": [
    "The output of the cell above should help clarify how images are encoded in our data. Each pixel has a value from 0 (black) to 255 (white). Since our images are black and white, we only have one grid of pixels. For color images, we would have three: one for each color, red, green, blue.\n",
    "\n",
    "Our datasets have 60,000 images in the `train_features` and 10,000 images in the `val_features`. We will use these data as we move forward."
   ]
  },
  {
   "cell_type": "markdown",
   "metadata": {
    "id": "S47eIJZ_lkmT"
   },
   "source": [
    "## 4. Build the sequential model using PyTorch Lightning\n",
    "\n",
    "Now, the fun part begins! Amelia sets out to build her neural network. In the previous exercises, Amelia called a pre-trained model for image recognition and then built a single-layer network for her binary classifier. With her confidence high, she is going to create this model herself out of multiple layers. This approach gives her (and you!) the most control over the function of the model.\n",
    "\n",
    "Using PyTorch Lightning, we'll create a model class that encapsulates the neural network architecture and training logic. The model will have the following structure:\n",
    "\n",
    "* First, add a flattened layer to unroll the 28x28 pixel images into a single array of 784.\n",
    "* Add a dense hidden layer with 50 units (neurons) and ReLU (Rectified Linear Unit) activation function.\n",
    "   * The ReLU function will allow the model to capture non-linearity.\n",
    "* Add a second, dense hidden layer with 20 units and ReLU activation function.\n",
    "* Add a dense output layer with 10 units and the softmax activation function.\n",
    "   * We use ten neurons, each representing the digits 0-9.\n",
    "   * The softmax function ensures the output values are probabilities that sum to 1, making it suitable for classification.\n",
    "\n",
    "Here's a graphical view of what we are doing:\n",
    "\n",
    "![A diagram of the neural network being created. It shows the input 28X28 image being flattened into a 784 dimension array. That is the input. There are two hidden, fully connected layers with 50 and 20 neurons each. The final output layer has 10 neurons for the 10 classes in our model.](https://github.com/PracticumAI/deep_learning_pt-lightning/blob/main/images/MNIST_neural_network.png?raw=1)\n",
    "\n"
   ]
  },
  {
   "cell_type": "code",
   "execution_count": 10,
   "metadata": {
    "id": "751EZdU_lkmT"
   },
   "outputs": [],
   "source": [
    "# Define our model with improved logging for epoch metrics only\n",
    "class MNISTClassifier(pl.LightningModule):\n",
    "    def __init__(self):\n",
    "        super().__init__()\n",
    "        # Define the layers of the model\n",
    "        self.flatten = nn.Flatten()  # Flatten 28x28 to 784\n",
    "        self.fc1 = nn.Linear(784, 50)  # 784 inputs to 50 neurons\n",
    "        self.fc2 = nn.Linear(50, 20)  # 50 outputs to 20 neurons\n",
    "        self.fc3 = nn.Linear(20, 10)  # 20 to 10 output classes\n",
    "\n",
    "    def forward(self, x):\n",
    "        # Define how the data flows through the layers of the model\n",
    "        # Also add in activation functions and other options\n",
    "        x = self.flatten(x)\n",
    "        x = F.relu(self.fc1(x))\n",
    "        x = F.relu(self.fc2(x))\n",
    "        x = F.log_softmax(self.fc3(x), dim=1)  # Log softmax for NLLLoss\n",
    "        return x\n",
    "\n",
    "    def training_step(self, batch, batch_idx):\n",
    "        # Define how the model is trained\n",
    "        x, y = batch\n",
    "        y_hat = self(x)\n",
    "        loss = F.nll_loss(y_hat, y)\n",
    "        preds = torch.argmax(y_hat, dim=1)\n",
    "        acc = (preds == y).float().mean()\n",
    "\n",
    "        # Log training metrics\n",
    "        self.log(\"train_loss\", loss, on_step=True, on_epoch=True, prog_bar=True)\n",
    "        self.log(\"train_acc\", acc, on_step=True, on_epoch=True, prog_bar=True)\n",
    "        return loss\n",
    "\n",
    "    def validation_step(self, batch, batch_idx):\n",
    "        x, y = batch\n",
    "        y_hat = self(x)\n",
    "        loss = F.nll_loss(y_hat, y)\n",
    "        preds = torch.argmax(y_hat, dim=1)\n",
    "        acc = (preds == y).float().mean()\n",
    "\n",
    "        # Log validation metrics\n",
    "        self.log(\"val_loss\", loss, on_step=True, on_epoch=True, prog_bar=True)\n",
    "        self.log(\"val_acc\", acc, on_step=True, on_epoch=True, prog_bar=True)\n",
    "        return {\"val_loss\": loss, \"val_acc\": acc}\n",
    "\n",
    "    def configure_optimizers(self):\n",
    "        # Define the optimizer and learning rate\n",
    "        return optim.Adam(self.parameters(), lr=0.001)\n",
    "\n",
    "\n",
    "# Instantiate the model\n",
    "model = MNISTClassifier()"
   ]
  },
  {
   "cell_type": "markdown",
   "metadata": {
    "id": "MKB6819UlkmT"
   },
   "source": [
    "## 5. Prepare the data loaders\n",
    "\n",
    "In PyTorch, we need to create data loaders to efficiently batch and iterate through our data during training. PyTorch Lightning works seamlessly with PyTorch's DataLoader.\n",
    "\n",
    "The `num_workers` variable was set above and controls the number of CPUs that will be used to load and process the data."
   ]
  },
  {
   "cell_type": "code",
   "execution_count": 11,
   "metadata": {
    "id": "tuL1IJ0ulkmT"
   },
   "outputs": [],
   "source": [
    "train_loader = DataLoader(train_dataset, batch_size=64, shuffle=True, \n",
    "                        num_workers=num_workers)\n",
    "val_loader = DataLoader(val_dataset, batch_size=64, shuffle=False,\n",
    "                        num_workers=num_workers)\n"
   ]
  },
  {
   "cell_type": "markdown",
   "metadata": {
    "id": "J2sNR3VIlkmT"
   },
   "source": [
    "## 6. Inspect the model configuration using print\n",
    "\n",
    "Display a summary of the model's architecture, including the layers, their shapes, and the number of parameters.\n"
   ]
  },
  {
   "cell_type": "code",
   "execution_count": 12,
   "metadata": {
    "id": "7g6WEAOLlkmT"
   },
   "outputs": [
    {
     "name": "stdout",
     "output_type": "stream",
     "text": [
      "MNISTClassifier(\n",
      "  (flatten): Flatten(start_dim=1, end_dim=-1)\n",
      "  (fc1): Linear(in_features=784, out_features=50, bias=True)\n",
      "  (fc2): Linear(in_features=50, out_features=20, bias=True)\n",
      "  (fc3): Linear(in_features=20, out_features=10, bias=True)\n",
      ")\n",
      "\n",
      "Total parameters: 40480\n"
     ]
    }
   ],
   "source": [
    "print(model)\n",
    "\n",
    "# Count the total parameters\n",
    "total_params = sum(p.numel() for p in model.parameters())\n",
    "print(f\"\\nTotal parameters: {total_params}\")"
   ]
  },
  {
   "cell_type": "markdown",
   "metadata": {
    "id": "Oa4I-_zLlkmT"
   },
   "source": [
    "The model summary indicates that this model has 40,480 parameters (weights and biases). **Note**: If your model does not show `Total parameters: 40480`, double check your model was set up correctly."
   ]
  },
  {
   "cell_type": "markdown",
   "metadata": {
    "id": "RmhSAd3ylkmT"
   },
   "source": [
    "## 7. Train the model using PyTorch Lightning\n",
    "\n",
    "Now, train the model on the MNIST dataset using PyTorch Lightning's `Trainer`. We'll set the training to run for 10 epochs.\n",
    "\n",
    "Train the model using the training data:\n",
    "* `train_loader`: the DataLoader containing input images and labels\n",
    "* `max_epochs=10`: the number of times the model will cycle through the entire dataset\n",
    "\n",
    "```python\n",
    "# Create a PyTorch Lightning trainer\n",
    "trainer = Trainer(max_epochs=10, enable_progress_bar=True)\n",
    "\n",
    "# Train the model\n",
    "trainer.fit(model, train_loader, val_loader)\n",
    "```"
   ]
  },
  {
   "cell_type": "code",
   "execution_count": 13,
   "metadata": {
    "id": "oVa6WxzYlkmT"
   },
   "outputs": [
    {
     "name": "stderr",
     "output_type": "stream",
     "text": [
      "💡 Tip: For seamless cloud uploads and versioning, try installing [litmodels](https://pypi.org/project/litmodels/) to enable LitModelCheckpoint, which syncs automatically with the Lightning model registry.\n",
      "GPU available: True (cuda), used: True\n",
      "TPU available: False, using: 0 TPU cores\n",
      "HPU available: False, using: 0 HPUs\n",
      "/project/scinet_workshop1/deep_learning_foundations/dlf_env/lib/python3.11/site-packages/pytorch_lightning/trainer/connectors/logger_connector/logger_connector.py:76: Starting from v1.9.0, `tensorboardX` has been removed as a dependency of the `pytorch_lightning` package, due to potential conflicts with other packages in the ML ecosystem. For this reason, `logger=True` will use `CSVLogger` as the default logger, unless the `tensorboard` or `tensorboardX` packages are found. Please `pip install lightning[extra]` or one of them to enable TensorBoard support by default\n",
      "You are using a CUDA device ('NVIDIA A100-SXM4-80GB MIG 1g.10gb') that has Tensor Cores. To properly utilize them, you should set `torch.set_float32_matmul_precision('medium' | 'high')` which will trade-off precision for performance. For more details, read https://pytorch.org/docs/stable/generated/torch.set_float32_matmul_precision.html#torch.set_float32_matmul_precision\n",
      "LOCAL_RANK: 0 - CUDA_VISIBLE_DEVICES: [MIG-0659bea7-b666-5f99-af0d-121ac0b040cb]\n",
      "\n",
      "  | Name    | Type    | Params | Mode \n",
      "--------------------------------------------\n",
      "0 | flatten | Flatten | 0      | train\n",
      "1 | fc1     | Linear  | 39.2 K | train\n",
      "2 | fc2     | Linear  | 1.0 K  | train\n",
      "3 | fc3     | Linear  | 210    | train\n",
      "--------------------------------------------\n",
      "40.5 K    Trainable params\n",
      "0         Non-trainable params\n",
      "40.5 K    Total params\n",
      "0.162     Total estimated model params size (MB)\n",
      "4         Modules in train mode\n",
      "0         Modules in eval mode\n",
      "SLURM auto-requeueing enabled. Setting signal handlers.\n"
     ]
    },
    {
     "data": {
      "application/vnd.jupyter.widget-view+json": {
       "model_id": "",
       "version_major": 2,
       "version_minor": 0
      },
      "text/plain": [
       "Sanity Checking: |          | 0/? [00:00<?, ?it/s]"
      ]
     },
     "metadata": {},
     "output_type": "display_data"
    },
    {
     "data": {
      "application/vnd.jupyter.widget-view+json": {
       "model_id": "70fbe556b7924fca98bda0c43c779589",
       "version_major": 2,
       "version_minor": 0
      },
      "text/plain": [
       "Training: |          | 0/? [00:00<?, ?it/s]"
      ]
     },
     "metadata": {},
     "output_type": "display_data"
    },
    {
     "data": {
      "application/vnd.jupyter.widget-view+json": {
       "model_id": "",
       "version_major": 2,
       "version_minor": 0
      },
      "text/plain": [
       "Validation: |          | 0/? [00:00<?, ?it/s]"
      ]
     },
     "metadata": {},
     "output_type": "display_data"
    },
    {
     "data": {
      "application/vnd.jupyter.widget-view+json": {
       "model_id": "",
       "version_major": 2,
       "version_minor": 0
      },
      "text/plain": [
       "Validation: |          | 0/? [00:00<?, ?it/s]"
      ]
     },
     "metadata": {},
     "output_type": "display_data"
    },
    {
     "data": {
      "application/vnd.jupyter.widget-view+json": {
       "model_id": "",
       "version_major": 2,
       "version_minor": 0
      },
      "text/plain": [
       "Validation: |          | 0/? [00:00<?, ?it/s]"
      ]
     },
     "metadata": {},
     "output_type": "display_data"
    },
    {
     "data": {
      "application/vnd.jupyter.widget-view+json": {
       "model_id": "",
       "version_major": 2,
       "version_minor": 0
      },
      "text/plain": [
       "Validation: |          | 0/? [00:00<?, ?it/s]"
      ]
     },
     "metadata": {},
     "output_type": "display_data"
    },
    {
     "data": {
      "application/vnd.jupyter.widget-view+json": {
       "model_id": "",
       "version_major": 2,
       "version_minor": 0
      },
      "text/plain": [
       "Validation: |          | 0/? [00:00<?, ?it/s]"
      ]
     },
     "metadata": {},
     "output_type": "display_data"
    },
    {
     "data": {
      "application/vnd.jupyter.widget-view+json": {
       "model_id": "",
       "version_major": 2,
       "version_minor": 0
      },
      "text/plain": [
       "Validation: |          | 0/? [00:00<?, ?it/s]"
      ]
     },
     "metadata": {},
     "output_type": "display_data"
    },
    {
     "data": {
      "application/vnd.jupyter.widget-view+json": {
       "model_id": "",
       "version_major": 2,
       "version_minor": 0
      },
      "text/plain": [
       "Validation: |          | 0/? [00:00<?, ?it/s]"
      ]
     },
     "metadata": {},
     "output_type": "display_data"
    },
    {
     "data": {
      "application/vnd.jupyter.widget-view+json": {
       "model_id": "",
       "version_major": 2,
       "version_minor": 0
      },
      "text/plain": [
       "Validation: |          | 0/? [00:00<?, ?it/s]"
      ]
     },
     "metadata": {},
     "output_type": "display_data"
    },
    {
     "data": {
      "application/vnd.jupyter.widget-view+json": {
       "model_id": "",
       "version_major": 2,
       "version_minor": 0
      },
      "text/plain": [
       "Validation: |          | 0/? [00:00<?, ?it/s]"
      ]
     },
     "metadata": {},
     "output_type": "display_data"
    },
    {
     "data": {
      "application/vnd.jupyter.widget-view+json": {
       "model_id": "",
       "version_major": 2,
       "version_minor": 0
      },
      "text/plain": [
       "Validation: |          | 0/? [00:00<?, ?it/s]"
      ]
     },
     "metadata": {},
     "output_type": "display_data"
    },
    {
     "name": "stderr",
     "output_type": "stream",
     "text": [
      "`Trainer.fit` stopped: `max_epochs=10` reached.\n"
     ]
    }
   ],
   "source": [
    "# Code it!\n",
    "trainer = Trainer(max_epochs=10, enable_progress_bar=True)\n",
    "trainer.fit(model, train_loader, val_loader)"
   ]
  },
  {
   "cell_type": "markdown",
   "metadata": {
    "id": "28n-icBllkmT"
   },
   "source": [
    "## 8. Evaluate the model\n",
    "\n",
    "Finally, evaluate your model's performance on the validation set."
   ]
  },
  {
   "cell_type": "code",
   "execution_count": 14,
   "metadata": {
    "id": "dyK6iRjElkmT"
   },
   "outputs": [
    {
     "name": "stderr",
     "output_type": "stream",
     "text": [
      "LOCAL_RANK: 0 - CUDA_VISIBLE_DEVICES: [MIG-0659bea7-b666-5f99-af0d-121ac0b040cb]\n",
      "SLURM auto-requeueing enabled. Setting signal handlers.\n"
     ]
    },
    {
     "data": {
      "application/vnd.jupyter.widget-view+json": {
       "model_id": "51b6442068fb4953b6e76e046d58a40b",
       "version_major": 2,
       "version_minor": 0
      },
      "text/plain": [
       "Validation: |          | 0/? [00:00<?, ?it/s]"
      ]
     },
     "metadata": {},
     "output_type": "display_data"
    },
    {
     "name": "stdout",
     "output_type": "stream",
     "text": [
      "────────────────────────────────────────────────────────────────────────────────────────────────────────────────────────\n",
      "     Validate metric           DataLoader 0\n",
      "────────────────────────────────────────────────────────────────────────────────────────────────────────────────────────\n",
      "      val_acc_epoch         0.9707000255584717\n",
      "     val_loss_epoch         0.10020487755537033\n",
      "────────────────────────────────────────────────────────────────────────────────────────────────────────────────────────\n"
     ]
    },
    {
     "data": {
      "text/plain": [
       "[{'val_loss_epoch': 0.10020487755537033, 'val_acc_epoch': 0.9707000255584717}]"
      ]
     },
     "execution_count": 14,
     "metadata": {},
     "output_type": "execute_result"
    }
   ],
   "source": [
    "trainer.validate(model, dataloaders=val_loader)"
   ]
  },
  {
   "cell_type": "markdown",
   "metadata": {
    "id": "qmVCEOw_lkmU"
   },
   "source": [
    "## 9. Model predictions\n",
    "\n",
    "Let's see how the model performs on some randomly selected images.  Are its predictions correct?  \n",
    "\n",
    "Randomly select an image from the validation dataset, in this case, the 200th image.\n",
    "\n",
    "Select a specific image from the validation dataset for examination or prediction.\n",
    "\n",
    "The variable `loc` is set to the index 200, which means we are selecting the 201st image (0-based index) from the validation dataset.\n",
    "\n",
    "```python\n",
    "loc = 200\n",
    "\n",
    "# Extract the corresponding image from the val_features array and store it in the 'val_image' variable.\n",
    "val_image = val_features[loc]\n",
    "```"
   ]
  },
  {
   "cell_type": "code",
   "execution_count": 15,
   "metadata": {
    "id": "Rcn8UZ71lkmU"
   },
   "outputs": [],
   "source": [
    "# Code it!\n",
    "loc = 200\n",
    "val_image = val_features[loc]"
   ]
  },
  {
   "cell_type": "markdown",
   "metadata": {
    "id": "f5244ZztlkmU"
   },
   "source": [
    "First, let's take a look at the shape of the image.\n",
    "\n",
    "* Get and display the shape (dimensions) of the `val_image` variable.\n",
    "* This provides insight into the structure and size of the image.\n",
    "\n",
    "```python\n",
    "val_image.shape\n",
    "```"
   ]
  },
  {
   "cell_type": "code",
   "execution_count": 16,
   "metadata": {
    "id": "ESDbDJkOlkmU"
   },
   "outputs": [
    {
     "data": {
      "text/plain": [
       "(28, 28)"
      ]
     },
     "execution_count": 16,
     "metadata": {},
     "output_type": "execute_result"
    }
   ],
   "source": [
    "# Code it!\n",
    "val_image.shape\n"
   ]
  },
  {
   "cell_type": "markdown",
   "metadata": {
    "id": "WPIxZ9C6lkmU"
   },
   "source": [
    "We see that our image is 28x28 pixels. However, the model needs not just the size of the image but also the batch dimension. A simple call to the `reshape()` method or `unsqueeze()` fixes that problem.\n",
    "\n",
    "* Reshape the `val_image` from a 2D array (28x28) to a 3D array (1x28x28).\n",
    "* This is commonly done to match the input shape that the model expects when making predictions on single samples.\n",
    "\n",
    "```python\n",
    "val_image_tensor = torch.tensor(val_image, dtype=torch.float32).unsqueeze(0)  # Add batch dimension\n",
    "```"
   ]
  },
  {
   "cell_type": "code",
   "execution_count": 18,
   "metadata": {
    "id": "4V08mZNUlkmU"
   },
   "outputs": [],
   "source": [
    "# Code it!\n",
    "val_image_tensor = torch.tensor(val_image, dtype=torch.float32).unsqueeze(0)"
   ]
  },
  {
   "cell_type": "markdown",
   "metadata": {
    "id": "F5YqpAHIlkmU"
   },
   "source": [
    "Now call the model's forward pass to make a prediction, assign the output to result, and then view its contents.\n",
    "\n",
    "* Use the trained model to predict the label for the `val_image_tensor`.\n",
    "* The model returns log probabilities, so we'll convert them to probabilities and display both.\n",
    "* Each value in the array corresponds to the model's predicted probability that the image belongs to a particular class (digit).\n"
   ]
  },
  {
   "cell_type": "code",
   "execution_count": 19,
   "metadata": {
    "id": "_jBcm-d0lkmU"
   },
   "outputs": [
    {
     "name": "stdout",
     "output_type": "stream",
     "text": [
      "Log probabilities: tensor([[-1975.1785, -2554.0386, -1099.8386,     0.0000, -3632.3428, -1949.2062,\n",
      "         -3129.2944, -1868.0479, -1536.9106, -2409.2253]])\n",
      "Probabilities: tensor([[0., 0., 0., 1., 0., 0., 0., 0., 0., 0.]])\n"
     ]
    }
   ],
   "source": [
    "model.eval()\n",
    "with torch.no_grad():\n",
    "    result = model(val_image_tensor)\n",
    "    probabilities = torch.exp(result)  # Convert log probabilities to probabilities\n",
    "\n",
    "# Print the array of probabilities to the console.\n",
    "print(\"Log probabilities:\", result)\n",
    "print(\"Probabilities:\", probabilities)"
   ]
  },
  {
   "cell_type": "markdown",
   "metadata": {
    "id": "4lu61F5xlkmU"
   },
   "source": [
    "As we see, the model has returned the probability of 10 predictions, with the highest one being the most likely.  Use the `argmax` function to see the model's prediction.\n",
    "\n",
    "* Use the `argmax` method to find the index (label) of the maximum value in the `result` tensor.\n",
    "   * This gives us the model's most likely prediction for the class (digit) of the `val_image`.\n",
    "\n",
    "```python\n",
    "predicted_digit = result.argmax(dim=1).item()\n",
    "print(f\"Predicted digit: {predicted_digit}\")\n",
    "```"
   ]
  },
  {
   "cell_type": "code",
   "execution_count": 20,
   "metadata": {
    "id": "nCX-H4hNlkmU"
   },
   "outputs": [
    {
     "name": "stdout",
     "output_type": "stream",
     "text": [
      "Predicted digit: 3\n"
     ]
    }
   ],
   "source": [
    "# Code it!\n",
    "predicted_digit = result.argmax(dim=1).item()\n",
    "print(f\"Predicted digit: {predicted_digit}\")"
   ]
  },
  {
   "cell_type": "markdown",
   "metadata": {
    "id": "3tuS21VklkmU"
   },
   "source": [
    "To verify the prediction, check the label of the corresponding image.\n",
    "\n",
    "* Using the index loc, retrieve the true label (actual digit) for the `val_image` from the `val_labels` array.\n",
    "   * This gives us the actual class (digit) of the `val_image` to compare with the model's prediction.\n",
    "\n",
    "```python\n",
    "true_digit = val_labels[loc]\n",
    "print(f\"True digit: {true_digit}\")\n",
    "```"
   ]
  },
  {
   "cell_type": "code",
   "execution_count": 21,
   "metadata": {
    "id": "DLBkmJ09lkmU"
   },
   "outputs": [
    {
     "name": "stdout",
     "output_type": "stream",
     "text": [
      "True digit: 3\n"
     ]
    }
   ],
   "source": [
    "# Code it!\n",
    "true_digit = val_labels[loc]\n",
    "print(f\"True digit: {true_digit}\")"
   ]
  },
  {
   "cell_type": "markdown",
   "metadata": {
    "id": "q56ioyAclkmU"
   },
   "source": [
    "Finally, visualize the image with pyplot.\n",
    "\n",
    "* Use the `imshow` function from the `matplotlib` library to display the `val_image` as a visual image.\n",
    "   * This helps in visually examining the content of the `val_image` (which is represented as a 28x28 array of pixel values).\n"
   ]
  },
  {
   "cell_type": "code",
   "execution_count": 22,
   "metadata": {
    "id": "mdb1JtW0lkmU"
   },
   "outputs": [
    {
     "data": {
      "image/png": "[encoded data removed]",
      "text/plain": [
       "<Figure size 640x480 with 1 Axes>"
      ]
     },
     "metadata": {},
     "output_type": "display_data"
    }
   ],
   "source": [
    "plt.imshow(val_features[loc], cmap=\"gray\")\n",
    "plt.title(f\"Predicted: {predicted_digit}, True: {true_digit}\")\n",
    "plt.show()"
   ]
  },
  {
   "cell_type": "markdown",
   "metadata": {
    "id": "bXZve_APlkmU"
   },
   "source": [
    "And we did it! We helped Amelia create a model that can recognize handwritten digits!\n",
    "\n",
    "\n",
    "## Bonus exercise\n",
    "\n",
    "* Write a function that ties all these steps into one function call. The function should take an input image and print the image with the predicted digit and true digit."
   ]
  },
  {
   "cell_type": "markdown",
   "metadata": {
    "id": "pSDPyylmlkmU",
    "tags": []
   },
   "source": [
    "## Before continuing\n",
    "###  <img src='https://github.com/PracticumAI/deep_learning_pt-lightning/blob/main/images/alert_icon.svg?raw=1' alt=\"Alert icon\" width=40 align=center> Alert!\n",
    "> Before continuing to another notebook within the same Jupyter session,\n",
    "> use the **\"Running Terminals and Kernels\" tab** (below the File Browser tab) to **shut down this kernel**.\n",
    "> This will free up this notebook's GPU memory, making it available for\n",
    "> your next notebook.\n",
    ">\n",
    "> Every time you run multiple notebooks within a Jupyter session with a GPU, this should be done.\n",
    ">\n",
    "> ![Screenshot of the Running Terminals and Kernels tab used t oshut down kernels before starting a new notebook](https://github.com/PracticumAI/deep_learning_pt-lightning/blob/main/images/stop_kernel.png?raw=1)\n",
    "\n",
    "----\n",
    "## Push changes to GitHub <img src=\"https://github.com/PracticumAI/deep_learning_pt-lightning/blob/main/images/push_to_github.png?raw=1\" alt=\"Push to GitHub icon\" align=\"right\" width=150>\n",
    "\n",
    " Remember to **add**, **commit**, and **push** the changes you have made to this notebook to GitHub to keep your repository in sync.\n",
    "\n",
    "In Jupyter, those are done in the git tab on the left. In Google Colab, use File > Save a copy in GitHub.\n"
   ]
  }
 ],
 "metadata": {
  "accelerator": "GPU",
  "colab": {
   "gpuType": "T4",
   "provenance": []
  },
  "kernelspec": {
   "display_name": "dlf_workshop",
   "language": "python",
   "name": "dlf_workshop"
  },
  "language_info": {
   "codemirror_mode": {
    "name": "ipython",
    "version": 3
   },
   "file_extension": ".py",
   "mimetype": "text/x-python",
   "name": "python",
   "nbconvert_exporter": "python",
   "pygments_lexer": "ipython3",
   "version": "3.11.13"
  }
 },
 "nbformat": 4,
 "nbformat_minor": 4
}
